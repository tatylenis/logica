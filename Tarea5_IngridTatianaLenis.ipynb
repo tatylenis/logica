{
 "cells": [
  {
   "cell_type": "markdown",
   "id": "fa9f0cc1-7d58-4192-993e-def58168c636",
   "metadata": {},
   "source": [
    "# Regresión Logística"
   ]
  },
  {
   "cell_type": "markdown",
   "id": "7097bb5e-abf9-4f1d-ac7a-303ea6ad1c7f",
   "metadata": {},
   "source": [
    "# 1. Realizar un análisis exploratorio de los datos para identificar relaciones entre variables, valores atípicos, tendencias, etc."
   ]
  },
  {
   "cell_type": "code",
   "execution_count": 529,
   "id": "c7f50d53-11d1-4327-b695-82de771bfd16",
   "metadata": {},
   "outputs": [],
   "source": [
    "# Realizar un análisis exploratorio de los datos para identificar relaciones entre variables, valores atípicos, tendencias, etc.\n",
    "import pandas as pd                 # Para la manipulación de datos\n",
    "import numpy as np                  # Para operaciones numéricas\n",
    "import matplotlib.pyplot as plt      # Para visualización de datos\n",
    "import seaborn as sns               # Para visualización de datos mejorada"
   ]
  },
  {
   "cell_type": "code",
   "execution_count": 530,
   "id": "314f393a-2b91-4e6d-8fb5-981ec1ec9aa0",
   "metadata": {},
   "outputs": [],
   "source": [
    "# Librerías para implementar modelos de ciencia de datos\n",
    "from sklearn import metrics                   # Para métricas de evaluación\n",
    "from sklearn.model_selection import train_test_split  # Para dividir datos en conjunto de entrenamiento y prueba\n",
    "from sklearn.linear_model import LogisticRegression  # Para regresión logística\n",
    "from sklearn.metrics import classification_report, confusion_matrix  # Para evaluación de modelos"
   ]
  },
  {
   "cell_type": "code",
   "execution_count": 531,
   "id": "4ba7a9c0-3e3e-43c1-bfe4-8f2da3c3fd81",
   "metadata": {},
   "outputs": [],
   "source": [
    "# lectura de datos en Python\n",
    "# Cargamos el dataset en la variable Datos\n",
    "Datos = pd.read_csv(r\"C:\\UNAD\\SEMESTRE 7\\ANALISIS DE DATOS\\TAREA 5\\Anexo 6 - Dataset Titanic\\Titanic-Dataset.csv\")"
   ]
  },
  {
   "cell_type": "code",
   "execution_count": 532,
   "id": "3819af70-e2e7-4987-bfd8-844ee1b665af",
   "metadata": {},
   "outputs": [
    {
     "data": {
      "text/html": [
       "<div>\n",
       "<style scoped>\n",
       "    .dataframe tbody tr th:only-of-type {\n",
       "        vertical-align: middle;\n",
       "    }\n",
       "\n",
       "    .dataframe tbody tr th {\n",
       "        vertical-align: top;\n",
       "    }\n",
       "\n",
       "    .dataframe thead th {\n",
       "        text-align: right;\n",
       "    }\n",
       "</style>\n",
       "<table border=\"1\" class=\"dataframe\">\n",
       "  <thead>\n",
       "    <tr style=\"text-align: right;\">\n",
       "      <th></th>\n",
       "      <th>PassengerId</th>\n",
       "      <th>Survived</th>\n",
       "      <th>Pclass</th>\n",
       "      <th>Name</th>\n",
       "      <th>Sex</th>\n",
       "      <th>Age</th>\n",
       "      <th>SibSp</th>\n",
       "      <th>Parch</th>\n",
       "      <th>Ticket</th>\n",
       "      <th>Fare</th>\n",
       "      <th>Cabin</th>\n",
       "      <th>Embarked</th>\n",
       "    </tr>\n",
       "  </thead>\n",
       "  <tbody>\n",
       "    <tr>\n",
       "      <th>0</th>\n",
       "      <td>1</td>\n",
       "      <td>0</td>\n",
       "      <td>3</td>\n",
       "      <td>Braund, Mr. Owen Harris</td>\n",
       "      <td>male</td>\n",
       "      <td>22.0</td>\n",
       "      <td>1</td>\n",
       "      <td>0</td>\n",
       "      <td>A/5 21171</td>\n",
       "      <td>7.2500</td>\n",
       "      <td>NaN</td>\n",
       "      <td>S</td>\n",
       "    </tr>\n",
       "    <tr>\n",
       "      <th>1</th>\n",
       "      <td>2</td>\n",
       "      <td>1</td>\n",
       "      <td>1</td>\n",
       "      <td>Cumings, Mrs. John Bradley (Florence Briggs Th...</td>\n",
       "      <td>female</td>\n",
       "      <td>38.0</td>\n",
       "      <td>1</td>\n",
       "      <td>0</td>\n",
       "      <td>PC 17599</td>\n",
       "      <td>71.2833</td>\n",
       "      <td>C85</td>\n",
       "      <td>C</td>\n",
       "    </tr>\n",
       "    <tr>\n",
       "      <th>2</th>\n",
       "      <td>3</td>\n",
       "      <td>1</td>\n",
       "      <td>3</td>\n",
       "      <td>Heikkinen, Miss. Laina</td>\n",
       "      <td>female</td>\n",
       "      <td>26.0</td>\n",
       "      <td>0</td>\n",
       "      <td>0</td>\n",
       "      <td>STON/O2. 3101282</td>\n",
       "      <td>7.9250</td>\n",
       "      <td>NaN</td>\n",
       "      <td>S</td>\n",
       "    </tr>\n",
       "    <tr>\n",
       "      <th>3</th>\n",
       "      <td>4</td>\n",
       "      <td>1</td>\n",
       "      <td>1</td>\n",
       "      <td>Futrelle, Mrs. Jacques Heath (Lily May Peel)</td>\n",
       "      <td>female</td>\n",
       "      <td>35.0</td>\n",
       "      <td>1</td>\n",
       "      <td>0</td>\n",
       "      <td>113803</td>\n",
       "      <td>53.1000</td>\n",
       "      <td>C123</td>\n",
       "      <td>S</td>\n",
       "    </tr>\n",
       "    <tr>\n",
       "      <th>4</th>\n",
       "      <td>5</td>\n",
       "      <td>0</td>\n",
       "      <td>3</td>\n",
       "      <td>Allen, Mr. William Henry</td>\n",
       "      <td>male</td>\n",
       "      <td>35.0</td>\n",
       "      <td>0</td>\n",
       "      <td>0</td>\n",
       "      <td>373450</td>\n",
       "      <td>8.0500</td>\n",
       "      <td>NaN</td>\n",
       "      <td>S</td>\n",
       "    </tr>\n",
       "    <tr>\n",
       "      <th>5</th>\n",
       "      <td>6</td>\n",
       "      <td>0</td>\n",
       "      <td>3</td>\n",
       "      <td>Moran, Mr. James</td>\n",
       "      <td>male</td>\n",
       "      <td>NaN</td>\n",
       "      <td>0</td>\n",
       "      <td>0</td>\n",
       "      <td>330877</td>\n",
       "      <td>8.4583</td>\n",
       "      <td>NaN</td>\n",
       "      <td>Q</td>\n",
       "    </tr>\n",
       "    <tr>\n",
       "      <th>6</th>\n",
       "      <td>7</td>\n",
       "      <td>0</td>\n",
       "      <td>1</td>\n",
       "      <td>McCarthy, Mr. Timothy J</td>\n",
       "      <td>male</td>\n",
       "      <td>54.0</td>\n",
       "      <td>0</td>\n",
       "      <td>0</td>\n",
       "      <td>17463</td>\n",
       "      <td>51.8625</td>\n",
       "      <td>E46</td>\n",
       "      <td>S</td>\n",
       "    </tr>\n",
       "    <tr>\n",
       "      <th>7</th>\n",
       "      <td>8</td>\n",
       "      <td>0</td>\n",
       "      <td>3</td>\n",
       "      <td>Palsson, Master. Gosta Leonard</td>\n",
       "      <td>male</td>\n",
       "      <td>2.0</td>\n",
       "      <td>3</td>\n",
       "      <td>1</td>\n",
       "      <td>349909</td>\n",
       "      <td>21.0750</td>\n",
       "      <td>NaN</td>\n",
       "      <td>S</td>\n",
       "    </tr>\n",
       "    <tr>\n",
       "      <th>8</th>\n",
       "      <td>9</td>\n",
       "      <td>1</td>\n",
       "      <td>3</td>\n",
       "      <td>Johnson, Mrs. Oscar W (Elisabeth Vilhelmina Berg)</td>\n",
       "      <td>female</td>\n",
       "      <td>27.0</td>\n",
       "      <td>0</td>\n",
       "      <td>2</td>\n",
       "      <td>347742</td>\n",
       "      <td>11.1333</td>\n",
       "      <td>NaN</td>\n",
       "      <td>S</td>\n",
       "    </tr>\n",
       "    <tr>\n",
       "      <th>9</th>\n",
       "      <td>10</td>\n",
       "      <td>1</td>\n",
       "      <td>2</td>\n",
       "      <td>Nasser, Mrs. Nicholas (Adele Achem)</td>\n",
       "      <td>female</td>\n",
       "      <td>14.0</td>\n",
       "      <td>1</td>\n",
       "      <td>0</td>\n",
       "      <td>237736</td>\n",
       "      <td>30.0708</td>\n",
       "      <td>NaN</td>\n",
       "      <td>C</td>\n",
       "    </tr>\n",
       "    <tr>\n",
       "      <th>10</th>\n",
       "      <td>11</td>\n",
       "      <td>1</td>\n",
       "      <td>3</td>\n",
       "      <td>Sandstrom, Miss. Marguerite Rut</td>\n",
       "      <td>female</td>\n",
       "      <td>4.0</td>\n",
       "      <td>1</td>\n",
       "      <td>1</td>\n",
       "      <td>PP 9549</td>\n",
       "      <td>16.7000</td>\n",
       "      <td>G6</td>\n",
       "      <td>S</td>\n",
       "    </tr>\n",
       "    <tr>\n",
       "      <th>11</th>\n",
       "      <td>12</td>\n",
       "      <td>1</td>\n",
       "      <td>1</td>\n",
       "      <td>Bonnell, Miss. Elizabeth</td>\n",
       "      <td>female</td>\n",
       "      <td>58.0</td>\n",
       "      <td>0</td>\n",
       "      <td>0</td>\n",
       "      <td>113783</td>\n",
       "      <td>26.5500</td>\n",
       "      <td>C103</td>\n",
       "      <td>S</td>\n",
       "    </tr>\n",
       "    <tr>\n",
       "      <th>12</th>\n",
       "      <td>13</td>\n",
       "      <td>0</td>\n",
       "      <td>3</td>\n",
       "      <td>Saundercock, Mr. William Henry</td>\n",
       "      <td>male</td>\n",
       "      <td>20.0</td>\n",
       "      <td>0</td>\n",
       "      <td>0</td>\n",
       "      <td>A/5. 2151</td>\n",
       "      <td>8.0500</td>\n",
       "      <td>NaN</td>\n",
       "      <td>S</td>\n",
       "    </tr>\n",
       "    <tr>\n",
       "      <th>13</th>\n",
       "      <td>14</td>\n",
       "      <td>0</td>\n",
       "      <td>3</td>\n",
       "      <td>Andersson, Mr. Anders Johan</td>\n",
       "      <td>male</td>\n",
       "      <td>39.0</td>\n",
       "      <td>1</td>\n",
       "      <td>5</td>\n",
       "      <td>347082</td>\n",
       "      <td>31.2750</td>\n",
       "      <td>NaN</td>\n",
       "      <td>S</td>\n",
       "    </tr>\n",
       "    <tr>\n",
       "      <th>14</th>\n",
       "      <td>15</td>\n",
       "      <td>0</td>\n",
       "      <td>3</td>\n",
       "      <td>Vestrom, Miss. Hulda Amanda Adolfina</td>\n",
       "      <td>female</td>\n",
       "      <td>14.0</td>\n",
       "      <td>0</td>\n",
       "      <td>0</td>\n",
       "      <td>350406</td>\n",
       "      <td>7.8542</td>\n",
       "      <td>NaN</td>\n",
       "      <td>S</td>\n",
       "    </tr>\n",
       "    <tr>\n",
       "      <th>15</th>\n",
       "      <td>16</td>\n",
       "      <td>1</td>\n",
       "      <td>2</td>\n",
       "      <td>Hewlett, Mrs. (Mary D Kingcome)</td>\n",
       "      <td>female</td>\n",
       "      <td>55.0</td>\n",
       "      <td>0</td>\n",
       "      <td>0</td>\n",
       "      <td>248706</td>\n",
       "      <td>16.0000</td>\n",
       "      <td>NaN</td>\n",
       "      <td>S</td>\n",
       "    </tr>\n",
       "    <tr>\n",
       "      <th>16</th>\n",
       "      <td>17</td>\n",
       "      <td>0</td>\n",
       "      <td>3</td>\n",
       "      <td>Rice, Master. Eugene</td>\n",
       "      <td>male</td>\n",
       "      <td>2.0</td>\n",
       "      <td>4</td>\n",
       "      <td>1</td>\n",
       "      <td>382652</td>\n",
       "      <td>29.1250</td>\n",
       "      <td>NaN</td>\n",
       "      <td>Q</td>\n",
       "    </tr>\n",
       "    <tr>\n",
       "      <th>17</th>\n",
       "      <td>18</td>\n",
       "      <td>1</td>\n",
       "      <td>2</td>\n",
       "      <td>Williams, Mr. Charles Eugene</td>\n",
       "      <td>male</td>\n",
       "      <td>NaN</td>\n",
       "      <td>0</td>\n",
       "      <td>0</td>\n",
       "      <td>244373</td>\n",
       "      <td>13.0000</td>\n",
       "      <td>NaN</td>\n",
       "      <td>S</td>\n",
       "    </tr>\n",
       "    <tr>\n",
       "      <th>18</th>\n",
       "      <td>19</td>\n",
       "      <td>0</td>\n",
       "      <td>3</td>\n",
       "      <td>Vander Planke, Mrs. Julius (Emelia Maria Vande...</td>\n",
       "      <td>female</td>\n",
       "      <td>31.0</td>\n",
       "      <td>1</td>\n",
       "      <td>0</td>\n",
       "      <td>345763</td>\n",
       "      <td>18.0000</td>\n",
       "      <td>NaN</td>\n",
       "      <td>S</td>\n",
       "    </tr>\n",
       "    <tr>\n",
       "      <th>19</th>\n",
       "      <td>20</td>\n",
       "      <td>1</td>\n",
       "      <td>3</td>\n",
       "      <td>Masselmani, Mrs. Fatima</td>\n",
       "      <td>female</td>\n",
       "      <td>NaN</td>\n",
       "      <td>0</td>\n",
       "      <td>0</td>\n",
       "      <td>2649</td>\n",
       "      <td>7.2250</td>\n",
       "      <td>NaN</td>\n",
       "      <td>C</td>\n",
       "    </tr>\n",
       "    <tr>\n",
       "      <th>20</th>\n",
       "      <td>21</td>\n",
       "      <td>0</td>\n",
       "      <td>2</td>\n",
       "      <td>Fynney, Mr. Joseph J</td>\n",
       "      <td>male</td>\n",
       "      <td>35.0</td>\n",
       "      <td>0</td>\n",
       "      <td>0</td>\n",
       "      <td>239865</td>\n",
       "      <td>26.0000</td>\n",
       "      <td>NaN</td>\n",
       "      <td>S</td>\n",
       "    </tr>\n",
       "    <tr>\n",
       "      <th>21</th>\n",
       "      <td>22</td>\n",
       "      <td>1</td>\n",
       "      <td>2</td>\n",
       "      <td>Beesley, Mr. Lawrence</td>\n",
       "      <td>male</td>\n",
       "      <td>34.0</td>\n",
       "      <td>0</td>\n",
       "      <td>0</td>\n",
       "      <td>248698</td>\n",
       "      <td>13.0000</td>\n",
       "      <td>D56</td>\n",
       "      <td>S</td>\n",
       "    </tr>\n",
       "    <tr>\n",
       "      <th>22</th>\n",
       "      <td>23</td>\n",
       "      <td>1</td>\n",
       "      <td>3</td>\n",
       "      <td>McGowan, Miss. Anna \"Annie\"</td>\n",
       "      <td>female</td>\n",
       "      <td>15.0</td>\n",
       "      <td>0</td>\n",
       "      <td>0</td>\n",
       "      <td>330923</td>\n",
       "      <td>8.0292</td>\n",
       "      <td>NaN</td>\n",
       "      <td>Q</td>\n",
       "    </tr>\n",
       "    <tr>\n",
       "      <th>23</th>\n",
       "      <td>24</td>\n",
       "      <td>1</td>\n",
       "      <td>1</td>\n",
       "      <td>Sloper, Mr. William Thompson</td>\n",
       "      <td>male</td>\n",
       "      <td>28.0</td>\n",
       "      <td>0</td>\n",
       "      <td>0</td>\n",
       "      <td>113788</td>\n",
       "      <td>35.5000</td>\n",
       "      <td>A6</td>\n",
       "      <td>S</td>\n",
       "    </tr>\n",
       "    <tr>\n",
       "      <th>24</th>\n",
       "      <td>25</td>\n",
       "      <td>0</td>\n",
       "      <td>3</td>\n",
       "      <td>Palsson, Miss. Torborg Danira</td>\n",
       "      <td>female</td>\n",
       "      <td>8.0</td>\n",
       "      <td>3</td>\n",
       "      <td>1</td>\n",
       "      <td>349909</td>\n",
       "      <td>21.0750</td>\n",
       "      <td>NaN</td>\n",
       "      <td>S</td>\n",
       "    </tr>\n",
       "    <tr>\n",
       "      <th>25</th>\n",
       "      <td>26</td>\n",
       "      <td>1</td>\n",
       "      <td>3</td>\n",
       "      <td>Asplund, Mrs. Carl Oscar (Selma Augusta Emilia...</td>\n",
       "      <td>female</td>\n",
       "      <td>38.0</td>\n",
       "      <td>1</td>\n",
       "      <td>5</td>\n",
       "      <td>347077</td>\n",
       "      <td>31.3875</td>\n",
       "      <td>NaN</td>\n",
       "      <td>S</td>\n",
       "    </tr>\n",
       "    <tr>\n",
       "      <th>26</th>\n",
       "      <td>27</td>\n",
       "      <td>0</td>\n",
       "      <td>3</td>\n",
       "      <td>Emir, Mr. Farred Chehab</td>\n",
       "      <td>male</td>\n",
       "      <td>NaN</td>\n",
       "      <td>0</td>\n",
       "      <td>0</td>\n",
       "      <td>2631</td>\n",
       "      <td>7.2250</td>\n",
       "      <td>NaN</td>\n",
       "      <td>C</td>\n",
       "    </tr>\n",
       "    <tr>\n",
       "      <th>27</th>\n",
       "      <td>28</td>\n",
       "      <td>0</td>\n",
       "      <td>1</td>\n",
       "      <td>Fortune, Mr. Charles Alexander</td>\n",
       "      <td>male</td>\n",
       "      <td>19.0</td>\n",
       "      <td>3</td>\n",
       "      <td>2</td>\n",
       "      <td>19950</td>\n",
       "      <td>263.0000</td>\n",
       "      <td>C23 C25 C27</td>\n",
       "      <td>S</td>\n",
       "    </tr>\n",
       "    <tr>\n",
       "      <th>28</th>\n",
       "      <td>29</td>\n",
       "      <td>1</td>\n",
       "      <td>3</td>\n",
       "      <td>O'Dwyer, Miss. Ellen \"Nellie\"</td>\n",
       "      <td>female</td>\n",
       "      <td>NaN</td>\n",
       "      <td>0</td>\n",
       "      <td>0</td>\n",
       "      <td>330959</td>\n",
       "      <td>7.8792</td>\n",
       "      <td>NaN</td>\n",
       "      <td>Q</td>\n",
       "    </tr>\n",
       "    <tr>\n",
       "      <th>29</th>\n",
       "      <td>30</td>\n",
       "      <td>0</td>\n",
       "      <td>3</td>\n",
       "      <td>Todoroff, Mr. Lalio</td>\n",
       "      <td>male</td>\n",
       "      <td>NaN</td>\n",
       "      <td>0</td>\n",
       "      <td>0</td>\n",
       "      <td>349216</td>\n",
       "      <td>7.8958</td>\n",
       "      <td>NaN</td>\n",
       "      <td>S</td>\n",
       "    </tr>\n",
       "    <tr>\n",
       "      <th>30</th>\n",
       "      <td>31</td>\n",
       "      <td>0</td>\n",
       "      <td>1</td>\n",
       "      <td>Uruchurtu, Don. Manuel E</td>\n",
       "      <td>male</td>\n",
       "      <td>40.0</td>\n",
       "      <td>0</td>\n",
       "      <td>0</td>\n",
       "      <td>PC 17601</td>\n",
       "      <td>27.7208</td>\n",
       "      <td>NaN</td>\n",
       "      <td>C</td>\n",
       "    </tr>\n",
       "    <tr>\n",
       "      <th>31</th>\n",
       "      <td>32</td>\n",
       "      <td>1</td>\n",
       "      <td>1</td>\n",
       "      <td>Spencer, Mrs. William Augustus (Marie Eugenie)</td>\n",
       "      <td>female</td>\n",
       "      <td>NaN</td>\n",
       "      <td>1</td>\n",
       "      <td>0</td>\n",
       "      <td>PC 17569</td>\n",
       "      <td>146.5208</td>\n",
       "      <td>B78</td>\n",
       "      <td>C</td>\n",
       "    </tr>\n",
       "    <tr>\n",
       "      <th>32</th>\n",
       "      <td>33</td>\n",
       "      <td>1</td>\n",
       "      <td>3</td>\n",
       "      <td>Glynn, Miss. Mary Agatha</td>\n",
       "      <td>female</td>\n",
       "      <td>NaN</td>\n",
       "      <td>0</td>\n",
       "      <td>0</td>\n",
       "      <td>335677</td>\n",
       "      <td>7.7500</td>\n",
       "      <td>NaN</td>\n",
       "      <td>Q</td>\n",
       "    </tr>\n",
       "    <tr>\n",
       "      <th>33</th>\n",
       "      <td>34</td>\n",
       "      <td>0</td>\n",
       "      <td>2</td>\n",
       "      <td>Wheadon, Mr. Edward H</td>\n",
       "      <td>male</td>\n",
       "      <td>66.0</td>\n",
       "      <td>0</td>\n",
       "      <td>0</td>\n",
       "      <td>C.A. 24579</td>\n",
       "      <td>10.5000</td>\n",
       "      <td>NaN</td>\n",
       "      <td>S</td>\n",
       "    </tr>\n",
       "    <tr>\n",
       "      <th>34</th>\n",
       "      <td>35</td>\n",
       "      <td>0</td>\n",
       "      <td>1</td>\n",
       "      <td>Meyer, Mr. Edgar Joseph</td>\n",
       "      <td>male</td>\n",
       "      <td>28.0</td>\n",
       "      <td>1</td>\n",
       "      <td>0</td>\n",
       "      <td>PC 17604</td>\n",
       "      <td>82.1708</td>\n",
       "      <td>NaN</td>\n",
       "      <td>C</td>\n",
       "    </tr>\n",
       "    <tr>\n",
       "      <th>35</th>\n",
       "      <td>36</td>\n",
       "      <td>0</td>\n",
       "      <td>1</td>\n",
       "      <td>Holverson, Mr. Alexander Oskar</td>\n",
       "      <td>male</td>\n",
       "      <td>42.0</td>\n",
       "      <td>1</td>\n",
       "      <td>0</td>\n",
       "      <td>113789</td>\n",
       "      <td>52.0000</td>\n",
       "      <td>NaN</td>\n",
       "      <td>S</td>\n",
       "    </tr>\n",
       "    <tr>\n",
       "      <th>36</th>\n",
       "      <td>37</td>\n",
       "      <td>1</td>\n",
       "      <td>3</td>\n",
       "      <td>Mamee, Mr. Hanna</td>\n",
       "      <td>male</td>\n",
       "      <td>NaN</td>\n",
       "      <td>0</td>\n",
       "      <td>0</td>\n",
       "      <td>2677</td>\n",
       "      <td>7.2292</td>\n",
       "      <td>NaN</td>\n",
       "      <td>C</td>\n",
       "    </tr>\n",
       "    <tr>\n",
       "      <th>37</th>\n",
       "      <td>38</td>\n",
       "      <td>0</td>\n",
       "      <td>3</td>\n",
       "      <td>Cann, Mr. Ernest Charles</td>\n",
       "      <td>male</td>\n",
       "      <td>21.0</td>\n",
       "      <td>0</td>\n",
       "      <td>0</td>\n",
       "      <td>A./5. 2152</td>\n",
       "      <td>8.0500</td>\n",
       "      <td>NaN</td>\n",
       "      <td>S</td>\n",
       "    </tr>\n",
       "    <tr>\n",
       "      <th>38</th>\n",
       "      <td>39</td>\n",
       "      <td>0</td>\n",
       "      <td>3</td>\n",
       "      <td>Vander Planke, Miss. Augusta Maria</td>\n",
       "      <td>female</td>\n",
       "      <td>18.0</td>\n",
       "      <td>2</td>\n",
       "      <td>0</td>\n",
       "      <td>345764</td>\n",
       "      <td>18.0000</td>\n",
       "      <td>NaN</td>\n",
       "      <td>S</td>\n",
       "    </tr>\n",
       "    <tr>\n",
       "      <th>39</th>\n",
       "      <td>40</td>\n",
       "      <td>1</td>\n",
       "      <td>3</td>\n",
       "      <td>Nicola-Yarred, Miss. Jamila</td>\n",
       "      <td>female</td>\n",
       "      <td>14.0</td>\n",
       "      <td>1</td>\n",
       "      <td>0</td>\n",
       "      <td>2651</td>\n",
       "      <td>11.2417</td>\n",
       "      <td>NaN</td>\n",
       "      <td>C</td>\n",
       "    </tr>\n",
       "  </tbody>\n",
       "</table>\n",
       "</div>"
      ],
      "text/plain": [
       "    PassengerId  Survived  Pclass  \\\n",
       "0             1         0       3   \n",
       "1             2         1       1   \n",
       "2             3         1       3   \n",
       "3             4         1       1   \n",
       "4             5         0       3   \n",
       "5             6         0       3   \n",
       "6             7         0       1   \n",
       "7             8         0       3   \n",
       "8             9         1       3   \n",
       "9            10         1       2   \n",
       "10           11         1       3   \n",
       "11           12         1       1   \n",
       "12           13         0       3   \n",
       "13           14         0       3   \n",
       "14           15         0       3   \n",
       "15           16         1       2   \n",
       "16           17         0       3   \n",
       "17           18         1       2   \n",
       "18           19         0       3   \n",
       "19           20         1       3   \n",
       "20           21         0       2   \n",
       "21           22         1       2   \n",
       "22           23         1       3   \n",
       "23           24         1       1   \n",
       "24           25         0       3   \n",
       "25           26         1       3   \n",
       "26           27         0       3   \n",
       "27           28         0       1   \n",
       "28           29         1       3   \n",
       "29           30         0       3   \n",
       "30           31         0       1   \n",
       "31           32         1       1   \n",
       "32           33         1       3   \n",
       "33           34         0       2   \n",
       "34           35         0       1   \n",
       "35           36         0       1   \n",
       "36           37         1       3   \n",
       "37           38         0       3   \n",
       "38           39         0       3   \n",
       "39           40         1       3   \n",
       "\n",
       "                                                 Name     Sex   Age  SibSp  \\\n",
       "0                             Braund, Mr. Owen Harris    male  22.0      1   \n",
       "1   Cumings, Mrs. John Bradley (Florence Briggs Th...  female  38.0      1   \n",
       "2                              Heikkinen, Miss. Laina  female  26.0      0   \n",
       "3        Futrelle, Mrs. Jacques Heath (Lily May Peel)  female  35.0      1   \n",
       "4                            Allen, Mr. William Henry    male  35.0      0   \n",
       "5                                    Moran, Mr. James    male   NaN      0   \n",
       "6                             McCarthy, Mr. Timothy J    male  54.0      0   \n",
       "7                      Palsson, Master. Gosta Leonard    male   2.0      3   \n",
       "8   Johnson, Mrs. Oscar W (Elisabeth Vilhelmina Berg)  female  27.0      0   \n",
       "9                 Nasser, Mrs. Nicholas (Adele Achem)  female  14.0      1   \n",
       "10                    Sandstrom, Miss. Marguerite Rut  female   4.0      1   \n",
       "11                           Bonnell, Miss. Elizabeth  female  58.0      0   \n",
       "12                     Saundercock, Mr. William Henry    male  20.0      0   \n",
       "13                        Andersson, Mr. Anders Johan    male  39.0      1   \n",
       "14               Vestrom, Miss. Hulda Amanda Adolfina  female  14.0      0   \n",
       "15                   Hewlett, Mrs. (Mary D Kingcome)   female  55.0      0   \n",
       "16                               Rice, Master. Eugene    male   2.0      4   \n",
       "17                       Williams, Mr. Charles Eugene    male   NaN      0   \n",
       "18  Vander Planke, Mrs. Julius (Emelia Maria Vande...  female  31.0      1   \n",
       "19                            Masselmani, Mrs. Fatima  female   NaN      0   \n",
       "20                               Fynney, Mr. Joseph J    male  35.0      0   \n",
       "21                              Beesley, Mr. Lawrence    male  34.0      0   \n",
       "22                        McGowan, Miss. Anna \"Annie\"  female  15.0      0   \n",
       "23                       Sloper, Mr. William Thompson    male  28.0      0   \n",
       "24                      Palsson, Miss. Torborg Danira  female   8.0      3   \n",
       "25  Asplund, Mrs. Carl Oscar (Selma Augusta Emilia...  female  38.0      1   \n",
       "26                            Emir, Mr. Farred Chehab    male   NaN      0   \n",
       "27                     Fortune, Mr. Charles Alexander    male  19.0      3   \n",
       "28                      O'Dwyer, Miss. Ellen \"Nellie\"  female   NaN      0   \n",
       "29                                Todoroff, Mr. Lalio    male   NaN      0   \n",
       "30                           Uruchurtu, Don. Manuel E    male  40.0      0   \n",
       "31     Spencer, Mrs. William Augustus (Marie Eugenie)  female   NaN      1   \n",
       "32                           Glynn, Miss. Mary Agatha  female   NaN      0   \n",
       "33                              Wheadon, Mr. Edward H    male  66.0      0   \n",
       "34                            Meyer, Mr. Edgar Joseph    male  28.0      1   \n",
       "35                     Holverson, Mr. Alexander Oskar    male  42.0      1   \n",
       "36                                   Mamee, Mr. Hanna    male   NaN      0   \n",
       "37                           Cann, Mr. Ernest Charles    male  21.0      0   \n",
       "38                 Vander Planke, Miss. Augusta Maria  female  18.0      2   \n",
       "39                        Nicola-Yarred, Miss. Jamila  female  14.0      1   \n",
       "\n",
       "    Parch            Ticket      Fare        Cabin Embarked  \n",
       "0       0         A/5 21171    7.2500          NaN        S  \n",
       "1       0          PC 17599   71.2833          C85        C  \n",
       "2       0  STON/O2. 3101282    7.9250          NaN        S  \n",
       "3       0            113803   53.1000         C123        S  \n",
       "4       0            373450    8.0500          NaN        S  \n",
       "5       0            330877    8.4583          NaN        Q  \n",
       "6       0             17463   51.8625          E46        S  \n",
       "7       1            349909   21.0750          NaN        S  \n",
       "8       2            347742   11.1333          NaN        S  \n",
       "9       0            237736   30.0708          NaN        C  \n",
       "10      1           PP 9549   16.7000           G6        S  \n",
       "11      0            113783   26.5500         C103        S  \n",
       "12      0         A/5. 2151    8.0500          NaN        S  \n",
       "13      5            347082   31.2750          NaN        S  \n",
       "14      0            350406    7.8542          NaN        S  \n",
       "15      0            248706   16.0000          NaN        S  \n",
       "16      1            382652   29.1250          NaN        Q  \n",
       "17      0            244373   13.0000          NaN        S  \n",
       "18      0            345763   18.0000          NaN        S  \n",
       "19      0              2649    7.2250          NaN        C  \n",
       "20      0            239865   26.0000          NaN        S  \n",
       "21      0            248698   13.0000          D56        S  \n",
       "22      0            330923    8.0292          NaN        Q  \n",
       "23      0            113788   35.5000           A6        S  \n",
       "24      1            349909   21.0750          NaN        S  \n",
       "25      5            347077   31.3875          NaN        S  \n",
       "26      0              2631    7.2250          NaN        C  \n",
       "27      2             19950  263.0000  C23 C25 C27        S  \n",
       "28      0            330959    7.8792          NaN        Q  \n",
       "29      0            349216    7.8958          NaN        S  \n",
       "30      0          PC 17601   27.7208          NaN        C  \n",
       "31      0          PC 17569  146.5208          B78        C  \n",
       "32      0            335677    7.7500          NaN        Q  \n",
       "33      0        C.A. 24579   10.5000          NaN        S  \n",
       "34      0          PC 17604   82.1708          NaN        C  \n",
       "35      0            113789   52.0000          NaN        S  \n",
       "36      0              2677    7.2292          NaN        C  \n",
       "37      0        A./5. 2152    8.0500          NaN        S  \n",
       "38      0            345764   18.0000          NaN        S  \n",
       "39      0              2651   11.2417          NaN        C  "
      ]
     },
     "execution_count": 532,
     "metadata": {},
     "output_type": "execute_result"
    }
   ],
   "source": [
    "# Realizamos lectura de los Datos para el análisis exploratorio\n",
    "\n",
    "Datos.head(40)"
   ]
  },
  {
   "cell_type": "code",
   "execution_count": 533,
   "id": "fb7447c8-f3b4-45ef-9b38-50704b05f7d8",
   "metadata": {},
   "outputs": [
    {
     "data": {
      "text/html": [
       "<div>\n",
       "<style scoped>\n",
       "    .dataframe tbody tr th:only-of-type {\n",
       "        vertical-align: middle;\n",
       "    }\n",
       "\n",
       "    .dataframe tbody tr th {\n",
       "        vertical-align: top;\n",
       "    }\n",
       "\n",
       "    .dataframe thead th {\n",
       "        text-align: right;\n",
       "    }\n",
       "</style>\n",
       "<table border=\"1\" class=\"dataframe\">\n",
       "  <thead>\n",
       "    <tr style=\"text-align: right;\">\n",
       "      <th></th>\n",
       "      <th>PassengerId</th>\n",
       "      <th>Survived</th>\n",
       "      <th>Pclass</th>\n",
       "      <th>Age</th>\n",
       "      <th>SibSp</th>\n",
       "      <th>Parch</th>\n",
       "      <th>Fare</th>\n",
       "    </tr>\n",
       "  </thead>\n",
       "  <tbody>\n",
       "    <tr>\n",
       "      <th>count</th>\n",
       "      <td>891.000000</td>\n",
       "      <td>891.000000</td>\n",
       "      <td>891.000000</td>\n",
       "      <td>714.000000</td>\n",
       "      <td>891.000000</td>\n",
       "      <td>891.000000</td>\n",
       "      <td>891.000000</td>\n",
       "    </tr>\n",
       "    <tr>\n",
       "      <th>mean</th>\n",
       "      <td>446.000000</td>\n",
       "      <td>0.383838</td>\n",
       "      <td>2.308642</td>\n",
       "      <td>29.699118</td>\n",
       "      <td>0.523008</td>\n",
       "      <td>0.381594</td>\n",
       "      <td>32.204208</td>\n",
       "    </tr>\n",
       "    <tr>\n",
       "      <th>std</th>\n",
       "      <td>257.353842</td>\n",
       "      <td>0.486592</td>\n",
       "      <td>0.836071</td>\n",
       "      <td>14.526497</td>\n",
       "      <td>1.102743</td>\n",
       "      <td>0.806057</td>\n",
       "      <td>49.693429</td>\n",
       "    </tr>\n",
       "    <tr>\n",
       "      <th>min</th>\n",
       "      <td>1.000000</td>\n",
       "      <td>0.000000</td>\n",
       "      <td>1.000000</td>\n",
       "      <td>0.420000</td>\n",
       "      <td>0.000000</td>\n",
       "      <td>0.000000</td>\n",
       "      <td>0.000000</td>\n",
       "    </tr>\n",
       "    <tr>\n",
       "      <th>25%</th>\n",
       "      <td>223.500000</td>\n",
       "      <td>0.000000</td>\n",
       "      <td>2.000000</td>\n",
       "      <td>20.125000</td>\n",
       "      <td>0.000000</td>\n",
       "      <td>0.000000</td>\n",
       "      <td>7.910400</td>\n",
       "    </tr>\n",
       "    <tr>\n",
       "      <th>50%</th>\n",
       "      <td>446.000000</td>\n",
       "      <td>0.000000</td>\n",
       "      <td>3.000000</td>\n",
       "      <td>28.000000</td>\n",
       "      <td>0.000000</td>\n",
       "      <td>0.000000</td>\n",
       "      <td>14.454200</td>\n",
       "    </tr>\n",
       "    <tr>\n",
       "      <th>75%</th>\n",
       "      <td>668.500000</td>\n",
       "      <td>1.000000</td>\n",
       "      <td>3.000000</td>\n",
       "      <td>38.000000</td>\n",
       "      <td>1.000000</td>\n",
       "      <td>0.000000</td>\n",
       "      <td>31.000000</td>\n",
       "    </tr>\n",
       "    <tr>\n",
       "      <th>max</th>\n",
       "      <td>891.000000</td>\n",
       "      <td>1.000000</td>\n",
       "      <td>3.000000</td>\n",
       "      <td>80.000000</td>\n",
       "      <td>8.000000</td>\n",
       "      <td>6.000000</td>\n",
       "      <td>512.329200</td>\n",
       "    </tr>\n",
       "  </tbody>\n",
       "</table>\n",
       "</div>"
      ],
      "text/plain": [
       "       PassengerId    Survived      Pclass         Age       SibSp  \\\n",
       "count   891.000000  891.000000  891.000000  714.000000  891.000000   \n",
       "mean    446.000000    0.383838    2.308642   29.699118    0.523008   \n",
       "std     257.353842    0.486592    0.836071   14.526497    1.102743   \n",
       "min       1.000000    0.000000    1.000000    0.420000    0.000000   \n",
       "25%     223.500000    0.000000    2.000000   20.125000    0.000000   \n",
       "50%     446.000000    0.000000    3.000000   28.000000    0.000000   \n",
       "75%     668.500000    1.000000    3.000000   38.000000    1.000000   \n",
       "max     891.000000    1.000000    3.000000   80.000000    8.000000   \n",
       "\n",
       "            Parch        Fare  \n",
       "count  891.000000  891.000000  \n",
       "mean     0.381594   32.204208  \n",
       "std      0.806057   49.693429  \n",
       "min      0.000000    0.000000  \n",
       "25%      0.000000    7.910400  \n",
       "50%      0.000000   14.454200  \n",
       "75%      0.000000   31.000000  \n",
       "max      6.000000  512.329200  "
      ]
     },
     "execution_count": 533,
     "metadata": {},
     "output_type": "execute_result"
    }
   ],
   "source": [
    "# Descripción de los datos\n",
    "# Se obtienen estadísticas descriptivas de los datos\n",
    "Datos.describe()"
   ]
  },
  {
   "cell_type": "code",
   "execution_count": 534,
   "id": "0167c6b0-6272-44c3-a38a-e825256ad027",
   "metadata": {},
   "outputs": [
    {
     "data": {
      "image/png": "[encoded data removed]",
      "text/plain": [
       "<Figure size 800x400 with 1 Axes>"
      ]
     },
     "metadata": {},
     "output_type": "display_data"
    },
    {
     "data": {
      "image/png": "[encoded data removed]",
      "text/plain": [
       "<Figure size 800x400 with 1 Axes>"
      ]
     },
     "metadata": {},
     "output_type": "display_data"
    },
    {
     "data": {
      "image/png": "[encoded data removed]",
      "text/plain": [
       "<Figure size 800x500 with 1 Axes>"
      ]
     },
     "metadata": {},
     "output_type": "display_data"
    },
    {
     "data": {
      "image/png": "[encoded data removed]",
      "text/plain": [
       "<Figure size 800x500 with 1 Axes>"
      ]
     },
     "metadata": {},
     "output_type": "display_data"
    }
   ],
   "source": [
    "# Identificación de Datos Faltantes y Atípicos en la Tarifa (Fare)\n",
    "plt.figure(figsize=(8, 4))\n",
    "sns.boxplot(x=Datos['Fare'], color='lightblue')\n",
    "plt.title('Identificación de Datos Faltantes y Atípicos en Tarifa (Fare)', fontsize=12)\n",
    "plt.xlabel('Tarifa (Fare)')\n",
    "plt.show()\n",
    "\n",
    "# Identificación de Datos Faltantes y Atípicos en la Edad (Age)\n",
    "plt.figure(figsize=(8, 4))\n",
    "sns.boxplot(x=Datos['Age'], color='lightgreen')\n",
    "plt.title('Identificación de Datos Faltantes y Atípicos en Edad (Age)', fontsize=12)\n",
    "plt.xlabel('Edad (Age)')\n",
    "plt.show()\n",
    "\n",
    "# Distribución de la Tarifa según la Clase del Pasajero\n",
    "plt.figure(figsize=(8, 5))\n",
    "sns.boxplot(x='Pclass', y='Fare', data=Datos, hue='Pclass', palette='pastel', legend=False)\n",
    "plt.title('Distribución de la Tarifa según la Clase del Pasajero', fontsize=12)\n",
    "plt.xlabel('Clase del Pasajero (Pclass)')\n",
    "plt.ylabel('Tarifa (Fare)')\n",
    "plt.show()\n",
    "\n",
    "# Distribución de Edad según la Supervivencia\n",
    "plt.figure(figsize=(8, 5))\n",
    "sns.boxplot(x='Survived', y='Age', data=Datos)\n",
    "plt.title('Distribución de Edad según la Supervivencia', fontsize=12)\n",
    "plt.xlabel('Supervivencia (Survived)')\n",
    "plt.ylabel('Edad (Age)')\n",
    "plt.xticks([0, 1], ['No Sobrevivió', 'Sobrevivió'])\n",
    "plt.show()"
   ]
  },
  {
   "cell_type": "code",
   "execution_count": 535,
   "id": "a1678ebe-1f23-4e95-91a3-234398081760",
   "metadata": {},
   "outputs": [
    {
     "data": {
      "image/png": "[encoded data removed]",
      "text/plain": [
       "<Figure size 1200x800 with 4 Axes>"
      ]
     },
     "metadata": {},
     "output_type": "display_data"
    }
   ],
   "source": [
    "# Graficar histogramas para las variables numéricas\n",
    "# Selección de variables numéricas del dataset Titanic\n",
    "variables_numericas = ['Age', 'Fare', 'SibSp', 'Parch']\n",
    "\n",
    "# Crear la figura para los histogramas\n",
    "plt.figure(figsize=(12, 8))\n",
    "\n",
    "# Graficar histogramas para cada variable\n",
    "for i, col in enumerate(variables_numericas, 1):\n",
    "    plt.subplot(2, 2, i)\n",
    "    sns.histplot(Datos[col], kde=True, color='skyblue', bins=20)  # Histograma con KDE\n",
    "    plt.title(f'Distribución de {col}', fontsize=12)\n",
    "    plt.xlabel(col, fontsize=10)\n",
    "    plt.ylabel('Frecuencia', fontsize=10)\n",
    "\n",
    "# Ajustar el diseño\n",
    "plt.tight_layout()\n",
    "plt.show()"
   ]
  },
  {
   "cell_type": "code",
   "execution_count": 536,
   "id": "ce77cae4-2ceb-46cf-bf91-c29610c9da8e",
   "metadata": {},
   "outputs": [
    {
     "data": {
      "image/png": "[encoded data removed]",
      "text/plain": [
       "<Figure size 1200x800 with 4 Axes>"
      ]
     },
     "metadata": {},
     "output_type": "display_data"
    }
   ],
   "source": [
    "# Variables numéricas relevantes\n",
    "variables_numericas = ['Age', 'Fare', 'SibSp', 'Parch']\n",
    "\n",
    "# Configurar la figura para los gráficos\n",
    "plt.figure(figsize=(12, 8))\n",
    "\n",
    "# Graficar boxplots para cada variable numérica frente a 'Survived'\n",
    "for i, col in enumerate(variables_numericas, 1):\n",
    "    plt.subplot(2, 2, i)\n",
    "    sns.boxplot(x='Survived', y=col, data=Datos, hue=None)  # Sin usar palette\n",
    "    plt.title(f'{col} vs Survived', fontsize=12)\n",
    "    plt.xlabel('Survived (0 = No, 1 = Yes)', fontsize=10)\n",
    "    plt.ylabel(col, fontsize=10)\n",
    "\n",
    "# Ajustar el diseño\n",
    "plt.tight_layout()\n",
    "plt.show()"
   ]
  },
  {
   "cell_type": "code",
   "execution_count": 537,
   "id": "558ecc4c-67b5-4202-bade-48a1c1bb1c93",
   "metadata": {},
   "outputs": [
    {
     "data": {
      "image/png": "[encoded data removed]",
      "text/plain": [
       "<Figure size 1200x1200 with 4 Axes>"
      ]
     },
     "metadata": {},
     "output_type": "display_data"
    }
   ],
   "source": [
    "# Variables categóricas del Titanic\n",
    "variables_categoricas = ['Pclass', 'Sex', 'Embarked', 'SibSp']\n",
    "\n",
    "# Configuración de la figura para los gráficos\n",
    "plt.figure(figsize=(12, 12))\n",
    "\n",
    "# Graficar el conteo de cada variable categórica en relación con 'Survived'\n",
    "for i, col in enumerate(variables_categoricas, 1):\n",
    "    plt.subplot(3, 2, i)\n",
    "    sns.countplot(x=col, hue='Survived', data=Datos, palette='pastel')  # Conteo categórico\n",
    "    plt.title(f'{col} vs Survived', fontsize=12)\n",
    "    plt.xlabel(col, fontsize=10)\n",
    "    plt.ylabel('Count', fontsize=10)\n",
    "\n",
    "# Ajustar diseño\n",
    "plt.tight_layout()\n",
    "plt.show()"
   ]
  },
  {
   "cell_type": "code",
   "execution_count": 538,
   "id": "9782ee4d-8224-422b-924c-b4cad952764b",
   "metadata": {},
   "outputs": [
    {
     "data": {
      "text/plain": [
       "PassengerId      0\n",
       "Survived         0\n",
       "Pclass           0\n",
       "Name             0\n",
       "Sex              0\n",
       "Age            177\n",
       "SibSp            0\n",
       "Parch            0\n",
       "Ticket           0\n",
       "Fare             0\n",
       "Cabin          687\n",
       "Embarked         2\n",
       "dtype: int64"
      ]
     },
     "execution_count": 538,
     "metadata": {},
     "output_type": "execute_result"
    }
   ],
   "source": [
    "# Revisar si hay valores faltantes\n",
    "# Se imprime la cantidad de valores nulos en cada columna\n",
    "Datos.isnull().sum()"
   ]
  },
  {
   "cell_type": "code",
   "execution_count": 539,
   "id": "5045e91c-1a86-4fc6-89a0-6d0d6af6eea6",
   "metadata": {},
   "outputs": [
    {
     "name": "stdout",
     "output_type": "stream",
     "text": [
      "       PassengerId    Survived      Pclass         Age       SibSp  \\\n",
      "count   891.000000  891.000000  891.000000  714.000000  891.000000   \n",
      "mean    446.000000    0.383838    2.308642   29.699118    0.523008   \n",
      "std     257.353842    0.486592    0.836071   14.526497    1.102743   \n",
      "min       1.000000    0.000000    1.000000    0.420000    0.000000   \n",
      "25%     223.500000    0.000000    2.000000   20.125000    0.000000   \n",
      "50%     446.000000    0.000000    3.000000   28.000000    0.000000   \n",
      "75%     668.500000    1.000000    3.000000   38.000000    1.000000   \n",
      "max     891.000000    1.000000    3.000000   80.000000    8.000000   \n",
      "\n",
      "            Parch        Fare  \n",
      "count  891.000000  891.000000  \n",
      "mean     0.381594   32.204208  \n",
      "std      0.806057   49.693429  \n",
      "min      0.000000    0.000000  \n",
      "25%      0.000000    7.910400  \n",
      "50%      0.000000   14.454200  \n",
      "75%      0.000000   31.000000  \n",
      "max      6.000000  512.329200  \n"
     ]
    }
   ],
   "source": [
    "# Descripción estadística\n",
    "print(Datos.describe())"
   ]
  },
  {
   "cell_type": "markdown",
   "id": "2b5c8f88-129f-4112-a978-0bd621b2cf88",
   "metadata": {},
   "source": [
    "# 2. Preprocesar los datos limpiándolos, tratando valores faltantes y transformándolos según sea necesario"
   ]
  },
  {
   "cell_type": "code",
   "execution_count": 541,
   "id": "58a755d4-52a2-4f4d-ac91-336b5eb4c936",
   "metadata": {},
   "outputs": [
    {
     "name": "stdout",
     "output_type": "stream",
     "text": [
      "Cantidad de Registros con valores nulos en 'Age':  177\n",
      "Cantidad de Registros con valores nulos en 'Fare':  0\n",
      "Cantidad de Registros con valores nulos en 'Embarked':  2\n",
      "Cantidad de Registros con cero en 'Age':  0\n",
      "Cantidad de Registros con cero en 'Fare':  15\n",
      "Cantidad de Registros con cero en 'SibSp' (Hermanos/Cónyuges a bordo):  608\n",
      "Cantidad de Registros con cero en 'Parch' (Padres/HIjos a bordo):  678\n",
      "Cantidad de Registros con valores nulos en 'Pclass':  0\n",
      "Cantidad de Registros con valores nulos en 'Sex':  0\n",
      "Cantidad de Registros con valores nulos en 'Embarked':  2\n"
     ]
    }
   ],
   "source": [
    "# Revisión de valores nulos en variables clave\n",
    "print(\"Cantidad de Registros con valores nulos en 'Age': \", Datos['Age'].isnull().sum())\n",
    "print(\"Cantidad de Registros con valores nulos en 'Fare': \", Datos['Fare'].isnull().sum())\n",
    "print(\"Cantidad de Registros con valores nulos en 'Embarked': \", Datos['Embarked'].isnull().sum())\n",
    "\n",
    "# Revisión de valores cero en algunas variables numéricas\n",
    "print(\"Cantidad de Registros con cero en 'Age': \", Datos['Age'].isin([0]).sum())  # Aunque no se esperan ceros en 'Age', es útil revisar\n",
    "print(\"Cantidad de Registros con cero en 'Fare': \", Datos['Fare'].isin([0]).sum())  # Revisa si hay tarifas cero\n",
    "print(\"Cantidad de Registros con cero en 'SibSp' (Hermanos/Cónyuges a bordo): \", Datos['SibSp'].isin([0]).sum())\n",
    "print(\"Cantidad de Registros con cero en 'Parch' (Padres/HIjos a bordo): \", Datos['Parch'].isin([0]).sum())\n",
    "\n",
    "# Para las variables categóricas, como 'Pclass' o 'Sex', verificamos si hay valores nulos\n",
    "print(\"Cantidad de Registros con valores nulos en 'Pclass': \", Datos['Pclass'].isnull().sum())\n",
    "print(\"Cantidad de Registros con valores nulos en 'Sex': \", Datos['Sex'].isnull().sum())\n",
    "print(\"Cantidad de Registros con valores nulos en 'Embarked': \", Datos['Embarked'].isnull().sum())"
   ]
  },
  {
   "cell_type": "code",
   "execution_count": 542,
   "id": "5ea61230-9152-4a58-bce6-c0a8f7d17ec6",
   "metadata": {},
   "outputs": [],
   "source": [
    "# Reemplazar los ceros con el valor medio (promedio) de las columnas numéricas\n",
    "# Reemplazar valores nulos de 'Age' con la media de la columna\n",
    "Datos['Age'] = Datos['Age'].replace(0, Datos['Age'].mean())\n",
    "Datos['Age'] = Datos['Age'].fillna(Datos['Age'].mean())  # Rellenar valores nulos con la media\n",
    "\n",
    "# Reemplazar valores nulos en 'Embarked' con la moda (ya que 'Embarked' es categórico)\n",
    "Datos['Embarked'] = Datos['Embarked'].fillna(Datos['Embarked'].mode()[0])\n",
    "\n",
    "# Reemplazar ceros en 'Fare' con la media de la columna\n",
    "Datos['Fare'] = Datos['Fare'].replace(0, Datos['Fare'].mean())\n",
    "\n",
    "# Reemplazar ceros en 'SibSp' (Hermanos o Cónyuges a bordo) y 'Parch' (Padres/Hijos a bordo) con la moda\n",
    "Datos['SibSp'] = Datos['SibSp'].replace(0, Datos['SibSp'].mode()[0])\n",
    "Datos['Parch'] = Datos['Parch'].replace(0, Datos['Parch'].mode()[0])"
   ]
  },
  {
   "cell_type": "code",
   "execution_count": 543,
   "id": "5f975ff1-4f8c-49be-9e35-a7befb00c83e",
   "metadata": {},
   "outputs": [
    {
     "name": "stdout",
     "output_type": "stream",
     "text": [
      "Cantidad de Registros con valores nulos en 'Age':  0\n",
      "Cantidad de Registros con valores nulos en 'Embarked':  0\n",
      "Cantidad de Registros con cero en 'Fare':  0\n",
      "Cantidad de Registros con cero en 'SibSp':  608\n",
      "Cantidad de Registros con cero en 'Parch':  678\n"
     ]
    }
   ],
   "source": [
    "# Revisión de datos faltantes después de reemplazar los ceros y valores nulos\n",
    "print(\"Cantidad de Registros con valores nulos en 'Age': \", Datos['Age'].isnull().sum())\n",
    "print(\"Cantidad de Registros con valores nulos en 'Embarked': \", Datos['Embarked'].isnull().sum())\n",
    "print(\"Cantidad de Registros con cero en 'Fare': \", Datos['Fare'].isin([0]).sum())\n",
    "print(\"Cantidad de Registros con cero en 'SibSp': \", Datos['SibSp'].isin([0]).sum())\n",
    "print(\"Cantidad de Registros con cero en 'Parch': \", Datos['Parch'].isin([0]).sum())"
   ]
  },
  {
   "cell_type": "code",
   "execution_count": 544,
   "id": "2c24e577-c948-4870-9652-5beeeb6f280a",
   "metadata": {},
   "outputs": [
    {
     "name": "stdout",
     "output_type": "stream",
     "text": [
      "El total de datos atípicos en 'Age' es 0\n",
      "El total de datos atípicos en 'Fare' es 3\n",
      "El total de datos atípicos en 'SibSp' es 0\n",
      "El total de datos atípicos en 'Parch' es 0\n"
     ]
    }
   ],
   "source": [
    "# Definir los límites para las variables numéricas del Titanic\n",
    "\n",
    "# Para la variable 'Age' (edad)\n",
    "limite_minimo_age = 0\n",
    "limite_maximo_age = 120\n",
    "Total_Atipicos_age = ((Datos['Age'] < limite_minimo_age) | (Datos['Age'] > limite_maximo_age)).sum()\n",
    "print(\"El total de datos atípicos en 'Age' es {}\".format(Total_Atipicos_age))\n",
    "\n",
    "# Para la variable 'Fare' (tarifa)\n",
    "limite_minimo_fare = 0\n",
    "limite_maximo_fare = 500  # Tomando como referencia el rango de tarifas del Titanic\n",
    "Total_Atipicos_fare = ((Datos['Fare'] < limite_minimo_fare) | (Datos['Fare'] > limite_maximo_fare)).sum()\n",
    "print(\"El total de datos atípicos en 'Fare' es {}\".format(Total_Atipicos_fare))\n",
    "\n",
    "# Para la variable 'SibSp' (Hermanos/Cónyuges a bordo)\n",
    "limite_minimo_sibsp = 0\n",
    "limite_maximo_sibsp = 8  # El número máximo de hermanos/cónyuges en un solo registro\n",
    "Total_Atipicos_sibsp = ((Datos['SibSp'] < limite_minimo_sibsp) | (Datos['SibSp'] > limite_maximo_sibsp)).sum()\n",
    "print(\"El total de datos atípicos en 'SibSp' es {}\".format(Total_Atipicos_sibsp))\n",
    "\n",
    "# Para la variable 'Parch' (Padres/Hijos a bordo)\n",
    "limite_minimo_parch = 0\n",
    "limite_maximo_parch = 6  # El número máximo de padres/hijos en un solo registro\n",
    "Total_Atipicos_parch = ((Datos['Parch'] < limite_minimo_parch) | (Datos['Parch'] > limite_maximo_parch)).sum()\n",
    "print(\"El total de datos atípicos en 'Parch' es {}\".format(Total_Atipicos_parch))"
   ]
  },
  {
   "cell_type": "code",
   "execution_count": 545,
   "id": "702bd701-3054-44d9-a157-88cc9fe27065",
   "metadata": {},
   "outputs": [],
   "source": [
    "# Filtrar los datos atípicos en las variables relevantes\n",
    "\n",
    "# Filtrar 'Age' (edad)\n",
    "Datos = Datos[(Datos['Age'] <= limite_maximo_age) & (Datos['Age'] >= limite_minimo_age)]\n",
    "\n",
    "# Filtrar 'Fare' (tarifa)\n",
    "Datos = Datos[(Datos['Fare'] <= limite_maximo_fare) & (Datos['Fare'] >= limite_minimo_fare)]\n",
    "\n",
    "# Filtrar 'SibSp' (Hermanos/Cónyuges a bordo)\n",
    "Datos = Datos[(Datos['SibSp'] <= limite_maximo_sibsp) & (Datos['SibSp'] >= limite_minimo_sibsp)]\n",
    "\n",
    "# Filtrar 'Parch' (Padres/Hijos a bordo)\n",
    "Datos = Datos[(Datos['Parch'] <= limite_maximo_parch) & (Datos['Parch'] >= limite_minimo_parch)]"
   ]
  },
  {
   "cell_type": "code",
   "execution_count": 546,
   "id": "98962576-6b6d-4182-a89b-c74f95b63f7d",
   "metadata": {},
   "outputs": [
    {
     "name": "stdout",
     "output_type": "stream",
     "text": [
      "El total de datos atípicos en 'Age' después de filtrar es 0\n",
      "El total de datos atípicos en 'Fare' después de filtrar es 0\n",
      "El total de datos atípicos en 'SibSp' después de filtrar es 0\n",
      "El total de datos atípicos en 'Parch' después de filtrar es 0\n"
     ]
    }
   ],
   "source": [
    "# Validar si se removieron los datos atípicos (Age)\n",
    "Total_Atipicos_age_filtrados = ((Datos['Age'] < limite_minimo_age) | (Datos['Age'] > limite_maximo_age)).sum()\n",
    "print(\"El total de datos atípicos en 'Age' después de filtrar es {}\".format(Total_Atipicos_age_filtrados))\n",
    "\n",
    "# Validar si se removieron los datos atípicos (Fare)\n",
    "Total_Atipicos_fare_filtrados = ((Datos['Fare'] < limite_minimo_fare) | (Datos['Fare'] > limite_maximo_fare)).sum()\n",
    "print(\"El total de datos atípicos en 'Fare' después de filtrar es {}\".format(Total_Atipicos_fare_filtrados))\n",
    "\n",
    "# Validar si se removieron los datos atípicos (SibSp)\n",
    "Total_Atipicos_sibsp_filtrados = ((Datos['SibSp'] < limite_minimo_sibsp) | (Datos['SibSp'] > limite_maximo_sibsp)).sum()\n",
    "print(\"El total de datos atípicos en 'SibSp' después de filtrar es {}\".format(Total_Atipicos_sibsp_filtrados))\n",
    "\n",
    "# Validar si se removieron los datos atípicos (Parch)\n",
    "Total_Atipicos_parch_filtrados = ((Datos['Parch'] < limite_minimo_parch) | (Datos['Parch'] > limite_maximo_parch)).sum()\n",
    "print(\"El total de datos atípicos en 'Parch' después de filtrar es {}\".format(Total_Atipicos_parch_filtrados))"
   ]
  },
  {
   "cell_type": "code",
   "execution_count": 547,
   "id": "dbb895f5-4788-4e7a-9478-0764aba96351",
   "metadata": {},
   "outputs": [
    {
     "name": "stdout",
     "output_type": "stream",
     "text": [
      "<class 'pandas.core.frame.DataFrame'>\n",
      "Index: 888 entries, 0 to 890\n",
      "Data columns (total 12 columns):\n",
      " #   Column       Non-Null Count  Dtype  \n",
      "---  ------       --------------  -----  \n",
      " 0   PassengerId  888 non-null    int64  \n",
      " 1   Survived     888 non-null    int64  \n",
      " 2   Pclass       888 non-null    int64  \n",
      " 3   Name         888 non-null    object \n",
      " 4   Sex          888 non-null    object \n",
      " 5   Age          888 non-null    float64\n",
      " 6   SibSp        888 non-null    int64  \n",
      " 7   Parch        888 non-null    int64  \n",
      " 8   Ticket       888 non-null    object \n",
      " 9   Fare         888 non-null    float64\n",
      " 10  Cabin        202 non-null    object \n",
      " 11  Embarked     888 non-null    object \n",
      "dtypes: float64(2), int64(5), object(5)\n",
      "memory usage: 90.2+ KB\n"
     ]
    }
   ],
   "source": [
    "#Revisión del tipo de datos y datos faltantes\n",
    "\n",
    "Datos.info()"
   ]
  },
  {
   "cell_type": "markdown",
   "id": "c6683365-f12b-4ae7-9e66-9983b88d4b6c",
   "metadata": {},
   "source": [
    "# 3. Seleccionar las características más relevantes para entrenar el modelo utilizando selección de características"
   ]
  },
  {
   "cell_type": "markdown",
   "id": "1b7d4b97-15ef-425b-b98c-1fe76cbd7280",
   "metadata": {},
   "source": [
    "Características de interés:\n",
    "\n",
    "    Survived: Indica si el pasajero sobrevivió o no (0 = no sobrevivió, 1 = sobrevivió)\n",
    "    Pclass: Clase del pasajero (1, 2, 3)\n",
    "    Sex: Sexo del pasajero (male, female)\n",
    "    Age: Edad del pasajero\n",
    "    SibSp: Número de hermanos o cónyuges a bordo\n",
    "    Parch: Número de padres o hijos a bordo\n",
    "    Fare: Tarifa pagada por el pasajero\n",
    "    Embarked: Puerto de embarque (C = Cherbourg, Q = Queenstown, S = Southampton)\n",
    "\n",
    "Objetivo: Predecir si un pasajero sobrevivió o no al naufragio\n",
    "\n",
    "Características relevantes seleccionadas:\r\n",
    "\r\n",
    "    Pclass: La clase en la que viajaba el pasajero puede influir en sus probabilidades de supervivencia.\r\n",
    "    Sex: El sexo es una característica importante, ya que históricamente las mujeres tuvieron más probabilidades de sobrevivir.\r\n",
    "    Age: La edad podría influir, ya que los niños, por ejemplo, tuvieron una mayor probabilidad de ser salvados.\r\n",
    "    SibSp: El número de hermanos o cónyuges a bordo puede reflejar las condiciones familiares del pasajero.\r\n",
    "    Parch: Similar a SibSp, el número de padres o hijos a bordo también podría tener influencia en la supervivencia.\r\n",
    "    Fare: La tarifa podría ser indicativa del nivel socioeconómico del pasajero, lo que podría estar relacionado con su probabilidad de supervivencia.\r\n",
    "    Embarked: El puerto de embarque podría estar relacionado con el lugar donde se encontraba el pasajero en el barco."
   ]
  },
  {
   "cell_type": "code",
   "execution_count": 550,
   "id": "aaacff4b-7f60-4c56-a5a3-de31c563ff0f",
   "metadata": {},
   "outputs": [
    {
     "name": "stdout",
     "output_type": "stream",
     "text": [
      "Survived\n",
      "0    549\n",
      "1    339\n",
      "Name: count, dtype: int64\n"
     ]
    }
   ],
   "source": [
    "# Total de personas que sobrevivieron (1) y no sobrevivieron (0)\n",
    "print(Datos['Survived'].value_counts())"
   ]
  },
  {
   "cell_type": "code",
   "execution_count": 551,
   "id": "b892edba-8345-4dd1-8146-e33bcd1f8e97",
   "metadata": {},
   "outputs": [
    {
     "data": {
      "text/html": [
       "<div>\n",
       "<style scoped>\n",
       "    .dataframe tbody tr th:only-of-type {\n",
       "        vertical-align: middle;\n",
       "    }\n",
       "\n",
       "    .dataframe tbody tr th {\n",
       "        vertical-align: top;\n",
       "    }\n",
       "\n",
       "    .dataframe thead th {\n",
       "        text-align: right;\n",
       "    }\n",
       "</style>\n",
       "<table border=\"1\" class=\"dataframe\">\n",
       "  <thead>\n",
       "    <tr style=\"text-align: right;\">\n",
       "      <th></th>\n",
       "      <th>Survived</th>\n",
       "    </tr>\n",
       "  </thead>\n",
       "  <tbody>\n",
       "    <tr>\n",
       "      <th>0</th>\n",
       "      <td>0</td>\n",
       "    </tr>\n",
       "    <tr>\n",
       "      <th>1</th>\n",
       "      <td>1</td>\n",
       "    </tr>\n",
       "    <tr>\n",
       "      <th>2</th>\n",
       "      <td>1</td>\n",
       "    </tr>\n",
       "    <tr>\n",
       "      <th>3</th>\n",
       "      <td>1</td>\n",
       "    </tr>\n",
       "    <tr>\n",
       "      <th>4</th>\n",
       "      <td>0</td>\n",
       "    </tr>\n",
       "    <tr>\n",
       "      <th>5</th>\n",
       "      <td>0</td>\n",
       "    </tr>\n",
       "    <tr>\n",
       "      <th>6</th>\n",
       "      <td>0</td>\n",
       "    </tr>\n",
       "    <tr>\n",
       "      <th>7</th>\n",
       "      <td>0</td>\n",
       "    </tr>\n",
       "    <tr>\n",
       "      <th>8</th>\n",
       "      <td>1</td>\n",
       "    </tr>\n",
       "    <tr>\n",
       "      <th>9</th>\n",
       "      <td>1</td>\n",
       "    </tr>\n",
       "    <tr>\n",
       "      <th>10</th>\n",
       "      <td>1</td>\n",
       "    </tr>\n",
       "    <tr>\n",
       "      <th>11</th>\n",
       "      <td>1</td>\n",
       "    </tr>\n",
       "    <tr>\n",
       "      <th>12</th>\n",
       "      <td>0</td>\n",
       "    </tr>\n",
       "    <tr>\n",
       "      <th>13</th>\n",
       "      <td>0</td>\n",
       "    </tr>\n",
       "    <tr>\n",
       "      <th>14</th>\n",
       "      <td>0</td>\n",
       "    </tr>\n",
       "    <tr>\n",
       "      <th>15</th>\n",
       "      <td>1</td>\n",
       "    </tr>\n",
       "    <tr>\n",
       "      <th>16</th>\n",
       "      <td>0</td>\n",
       "    </tr>\n",
       "    <tr>\n",
       "      <th>17</th>\n",
       "      <td>1</td>\n",
       "    </tr>\n",
       "    <tr>\n",
       "      <th>18</th>\n",
       "      <td>0</td>\n",
       "    </tr>\n",
       "    <tr>\n",
       "      <th>19</th>\n",
       "      <td>1</td>\n",
       "    </tr>\n",
       "    <tr>\n",
       "      <th>20</th>\n",
       "      <td>0</td>\n",
       "    </tr>\n",
       "    <tr>\n",
       "      <th>21</th>\n",
       "      <td>1</td>\n",
       "    </tr>\n",
       "    <tr>\n",
       "      <th>22</th>\n",
       "      <td>1</td>\n",
       "    </tr>\n",
       "    <tr>\n",
       "      <th>23</th>\n",
       "      <td>1</td>\n",
       "    </tr>\n",
       "    <tr>\n",
       "      <th>24</th>\n",
       "      <td>0</td>\n",
       "    </tr>\n",
       "    <tr>\n",
       "      <th>25</th>\n",
       "      <td>1</td>\n",
       "    </tr>\n",
       "    <tr>\n",
       "      <th>26</th>\n",
       "      <td>0</td>\n",
       "    </tr>\n",
       "    <tr>\n",
       "      <th>27</th>\n",
       "      <td>0</td>\n",
       "    </tr>\n",
       "    <tr>\n",
       "      <th>28</th>\n",
       "      <td>1</td>\n",
       "    </tr>\n",
       "    <tr>\n",
       "      <th>29</th>\n",
       "      <td>0</td>\n",
       "    </tr>\n",
       "    <tr>\n",
       "      <th>30</th>\n",
       "      <td>0</td>\n",
       "    </tr>\n",
       "    <tr>\n",
       "      <th>31</th>\n",
       "      <td>1</td>\n",
       "    </tr>\n",
       "    <tr>\n",
       "      <th>32</th>\n",
       "      <td>1</td>\n",
       "    </tr>\n",
       "    <tr>\n",
       "      <th>33</th>\n",
       "      <td>0</td>\n",
       "    </tr>\n",
       "    <tr>\n",
       "      <th>34</th>\n",
       "      <td>0</td>\n",
       "    </tr>\n",
       "    <tr>\n",
       "      <th>35</th>\n",
       "      <td>0</td>\n",
       "    </tr>\n",
       "    <tr>\n",
       "      <th>36</th>\n",
       "      <td>1</td>\n",
       "    </tr>\n",
       "    <tr>\n",
       "      <th>37</th>\n",
       "      <td>0</td>\n",
       "    </tr>\n",
       "    <tr>\n",
       "      <th>38</th>\n",
       "      <td>0</td>\n",
       "    </tr>\n",
       "    <tr>\n",
       "      <th>39</th>\n",
       "      <td>1</td>\n",
       "    </tr>\n",
       "  </tbody>\n",
       "</table>\n",
       "</div>"
      ],
      "text/plain": [
       "    Survived\n",
       "0          0\n",
       "1          1\n",
       "2          1\n",
       "3          1\n",
       "4          0\n",
       "5          0\n",
       "6          0\n",
       "7          0\n",
       "8          1\n",
       "9          1\n",
       "10         1\n",
       "11         1\n",
       "12         0\n",
       "13         0\n",
       "14         0\n",
       "15         1\n",
       "16         0\n",
       "17         1\n",
       "18         0\n",
       "19         1\n",
       "20         0\n",
       "21         1\n",
       "22         1\n",
       "23         1\n",
       "24         0\n",
       "25         1\n",
       "26         0\n",
       "27         0\n",
       "28         1\n",
       "29         0\n",
       "30         0\n",
       "31         1\n",
       "32         1\n",
       "33         0\n",
       "34         0\n",
       "35         0\n",
       "36         1\n",
       "37         0\n",
       "38         0\n",
       "39         1"
      ]
     },
     "execution_count": 551,
     "metadata": {},
     "output_type": "execute_result"
    }
   ],
   "source": [
    "Datos[['Survived']].head(40)"
   ]
  },
  {
   "cell_type": "markdown",
   "id": "0323aa64-d151-46a3-acfa-22f373eed166",
   "metadata": {},
   "source": [
    "# 4. Dividir el dataset en Train y Test para evaluar correctamente el modelo"
   ]
  },
  {
   "cell_type": "code",
   "execution_count": 553,
   "id": "1999573e-bb40-4957-92e5-29c17a699ef7",
   "metadata": {},
   "outputs": [],
   "source": [
    "# Porcentaje de datos para entrenamiento (train) = 75% , y para prueba (test) = 25%\n",
    "\n",
    "# Se crean variables X y Y para almacenar la información del entrenamiento\n",
    "# Se eliminan las columnas 'Survived', 'Name' y 'Sex' de los datos X\n",
    "X = Datos.drop(['Survived', 'Name', 'Sex', 'Ticket', 'Cabin', 'Embarked'], axis=1)  # Eliminar las columnas 'Survived', 'Name' y 'Sex'\n",
    "Y = Datos['Survived']  # Se cargan los datos de train con la columna 'condition'\n",
    "# División en conjunto de entrenamiento y prueba\n",
    "X_train, X_test, Y_train, Y_test = train_test_split(X, Y, test_size=0.25, stratify=Y, random_state=0)"
   ]
  },
  {
   "cell_type": "code",
   "execution_count": 554,
   "id": "2e4c6fd7-9d58-47e4-af8e-5f64618a6e7a",
   "metadata": {},
   "outputs": [
    {
     "name": "stdout",
     "output_type": "stream",
     "text": [
      "     PassengerId  Pclass        Age  SibSp  Parch     Fare\n",
      "671          672       1  31.000000      1      0  52.0000\n",
      "488          489       3  30.000000      0      0   8.0500\n",
      "634          635       3   9.000000      3      2  27.9000\n",
      "21            22       2  34.000000      0      0  13.0000\n",
      "418          419       2  30.000000      0      0  13.0000\n",
      "..           ...     ...        ...    ...    ...      ...\n",
      "131          132       3  20.000000      0      0   7.0500\n",
      "490          491       3  29.699118      1      0  19.9667\n",
      "528          529       3  39.000000      0      0   7.9250\n",
      "48            49       3  29.699118      2      0  21.6792\n",
      "80            81       3  22.000000      0      0   9.0000\n",
      "\n",
      "[666 rows x 6 columns]\n"
     ]
    }
   ],
   "source": [
    "print (X_train)"
   ]
  },
  {
   "cell_type": "code",
   "execution_count": 555,
   "id": "f0d5bd33-1094-4b1f-8246-370f97a0a929",
   "metadata": {},
   "outputs": [
    {
     "name": "stdout",
     "output_type": "stream",
     "text": [
      "671    0\n",
      "488    0\n",
      "634    0\n",
      "21     1\n",
      "418    0\n",
      "      ..\n",
      "131    0\n",
      "490    0\n",
      "528    0\n",
      "48     0\n",
      "80     0\n",
      "Name: Survived, Length: 666, dtype: int64\n"
     ]
    }
   ],
   "source": [
    "print (Y_train)"
   ]
  },
  {
   "cell_type": "markdown",
   "id": "a88db21f-2b82-4adb-897d-d331afda1f79",
   "metadata": {},
   "source": [
    "# 5. Entrenar el modelo configurando los diferentes hiperparámetros"
   ]
  },
  {
   "cell_type": "code",
   "execution_count": 557,
   "id": "42cfc2f1-d275-45eb-9495-f730ad0d0c29",
   "metadata": {},
   "outputs": [],
   "source": [
    "# Construir el modelo de regresión logística \n",
    "\n",
    "modelo_regresion = LogisticRegression(solver = \"liblinear\") # liblinear es una libreria para resolver problemas lineales de clasificación y regresión\n",
    "modelo_regresion.fit (X_train , Y_train)   \n",
    "\n",
    "# Crea el modelo de prediccion\n",
    "Prediccion = modelo_regresion.predict(X_test) # la función predict predice los valores a partir del conjunto de datos de validación"
   ]
  },
  {
   "cell_type": "code",
   "execution_count": 583,
   "id": "3bccbcd6-a5d5-426c-9fe4-c6791239fd0e",
   "metadata": {},
   "outputs": [
    {
     "name": "stdout",
     "output_type": "stream",
     "text": [
      "654    0\n",
      "319    1\n",
      "182    0\n",
      "684    0\n",
      "600    1\n",
      "      ..\n",
      "882    0\n",
      "434    0\n",
      "304    0\n",
      "500    0\n",
      "633    0\n",
      "Name: Survived, Length: 222, dtype: int64\n"
     ]
    }
   ],
   "source": [
    "print (Y_test)"
   ]
  },
  {
   "cell_type": "code",
   "execution_count": 585,
   "id": "5510da36-e1c1-4263-8b7b-b6fe0394215a",
   "metadata": {},
   "outputs": [
    {
     "name": "stdout",
     "output_type": "stream",
     "text": [
      "[0 1 0 0 0 0 0 0 0 0 0 0 0 0 1 1 1 0 0 0 0 0 1 0 0 0 0 0 0 0 0 0 0 0 1 0 1\n",
      " 1 0 0 0 0 0 0 0 0 0 1 1 0 0 1 0 0 0 0 0 0 0 0 0 0 0 0 0 0 1 0 0 1 0 0 0 1\n",
      " 1 1 1 0 0 0 1 0 0 0 1 0 1 0 1 0 0 0 1 0 1 0 0 0 0 1 0 0 1 0 0 1 0 0 0 0 1\n",
      " 0 0 1 0 1 0 0 0 0 1 1 1 0 0 0 0 1 0 1 1 0 0 0 0 0 0 0 0 0 0 1 0 0 0 1 0 0\n",
      " 0 0 1 0 0 0 0 0 1 1 0 0 0 0 1 0 1 0 0 0 1 0 0 0 1 0 0 0 1 0 1 0 0 0 0 1 0\n",
      " 0 0 0 0 0 1 1 0 0 1 0 0 0 0 1 0 0 0 1 0 1 1 0 0 0 0 0 0 1 0 0 1 0 0 0 0 1]\n"
     ]
    }
   ],
   "source": [
    "print (Prediccion)"
   ]
  },
  {
   "cell_type": "markdown",
   "id": "ed62dd37-0c8d-48a6-b08e-019a98a84640",
   "metadata": {},
   "source": [
    "# 6. Evaluar el desempeño del modelo en el conjunto de Test con métricas como precisión, recall, F1-score, etc"
   ]
  },
  {
   "cell_type": "code",
   "execution_count": 588,
   "id": "0a70e166-e898-4d08-95d0-dfe094d3008d",
   "metadata": {},
   "outputs": [
    {
     "name": "stdout",
     "output_type": "stream",
     "text": [
      "              precision    recall  f1-score   support\n",
      "\n",
      "           0       0.72      0.86      0.78       137\n",
      "           1       0.67      0.45      0.54        85\n",
      "\n",
      "    accuracy                           0.70       222\n",
      "   macro avg       0.69      0.65      0.66       222\n",
      "weighted avg       0.70      0.70      0.69       222\n",
      "\n"
     ]
    }
   ],
   "source": [
    "# Desempeño del modelo de regresión\n",
    "\n",
    "print(classification_report(Y_test,Prediccion))"
   ]
  },
  {
   "cell_type": "markdown",
   "id": "9cf67553-0167-4705-a124-ad17a975645c",
   "metadata": {},
   "source": [
    "# 7. Realizar las diferentes gráficas que permitan visualizar los resultados del modelo"
   ]
  },
  {
   "cell_type": "code",
   "execution_count": 591,
   "id": "3ca97b77-7739-4b97-ab63-a771bc60edc6",
   "metadata": {},
   "outputs": [
    {
     "data": {
      "text/plain": [
       "<sklearn.metrics._plot.confusion_matrix.ConfusionMatrixDisplay at 0x2caca494c80>"
      ]
     },
     "execution_count": 591,
     "metadata": {},
     "output_type": "execute_result"
    },
    {
     "data": {
      "image/png": "[encoded data removed]",
      "text/plain": [
       "<Figure size 640x480 with 2 Axes>"
      ]
     },
     "metadata": {},
     "output_type": "display_data"
    }
   ],
   "source": [
    "#Matrix de Confusión del modelo\n",
    "\n",
    "cm=confusion_matrix(Y_test,Prediccion)\n",
    "disp=metrics.ConfusionMatrixDisplay(confusion_matrix=cm)\n",
    "disp.plot()"
   ]
  },
  {
   "cell_type": "code",
   "execution_count": 593,
   "id": "64dbee37-d81a-41f8-b26c-d08d4af9840a",
   "metadata": {},
   "outputs": [
    {
     "data": {
      "image/png": "[encoded data removed]",
      "text/plain": [
       "<Figure size 640x480 with 1 Axes>"
      ]
     },
     "metadata": {},
     "output_type": "display_data"
    }
   ],
   "source": [
    "# Curva de precisón del modelo\n",
    "\n",
    "from sklearn.metrics import RocCurveDisplay\n",
    "RocCurveDisplay.from_predictions(Y_test, Prediccion)\n",
    "plt.show()"
   ]
  },
  {
   "cell_type": "markdown",
   "id": "c5ddef9d-40eb-40b7-b3de-7d6af320ee21",
   "metadata": {},
   "source": [
    "# 8. Interpretar, analizar y documentar los resultados obtenidos"
   ]
  },
  {
   "cell_type": "markdown",
   "id": "d2da1688-5fb3-4549-8541-61fecf587e6d",
   "metadata": {},
   "source": [
    "**Interpretación de los resultados**"
   ]
  },
  {
   "cell_type": "markdown",
   "id": "696bc21a-d201-4712-8282-cd65257e3c63",
   "metadata": {},
   "source": [
    "**1. Curva ROC y AUC (Área bajo la curva):**"
   ]
  },
  {
   "cell_type": "markdown",
   "id": "65fe255c-64e5-421c-b7c4-d1bed65b1731",
   "metadata": {},
   "source": [
    "- La curva ROC (Receiver Operating Characteristic) muestra el desempeño del modelo en términos de la Tasa de Verdaderos Positivos (True Positive Rate) contra la Tasa de Falsos Positivos (False Positive Rate)."
   ]
  },
  {
   "cell_type": "markdown",
   "id": "f427d20f-480e-42b1-a364-571bf25789e7",
   "metadata": {},
   "source": [
    "- El valor del AUC es 0.65, lo que indica que el modelo tiene una capacidad moderada para distinguir entre las clases (supervivientes y no supervivientes). Sin embargo, no es un modelo altamente confiable, ya que un AUC cercano a 0.5 implicaría un desempeño aleatorio."
   ]
  },
  {
   "cell_type": "markdown",
   "id": "f96688a5-1bfe-4a80-87fe-dfc6a842a4d4",
   "metadata": {},
   "source": [
    "**2. Reporte de clasificación:**"
   ]
  },
  {
   "cell_type": "markdown",
   "id": "76707ad1-dfc8-42b9-a365-9da05b12146d",
   "metadata": {},
   "source": [
    "- Precisión (Precision): Por cada clase, mide cuántas predicciones positivas fueron correctas."
   ]
  },
  {
   "cell_type": "markdown",
   "id": "671cba83-7284-4f34-822e-9e59f564d75d",
   "metadata": {},
   "source": [
    "- Para la clase 0 (no sobrevivientes): 72%."
   ]
  },
  {
   "cell_type": "markdown",
   "id": "64dd9595-1985-4636-b9c3-d7e7f3357944",
   "metadata": {},
   "source": [
    "- Para la clase 1 (sobrevivientes): 67%."
   ]
  },
  {
   "cell_type": "markdown",
   "id": "852607be-9bdf-4164-a7c6-757a64926cc1",
   "metadata": {},
   "source": [
    "- Recall (Sensibilidad o Tasa de Verdaderos Positivos): Indica cuántos de los casos positivos reales fueron identificados correctamente."
   ]
  },
  {
   "cell_type": "markdown",
   "id": "b145d3c3-af62-4016-b43b-c9341e9d0b80",
   "metadata": {},
   "source": [
    "- Para la clase 0: 86%."
   ]
  },
  {
   "cell_type": "markdown",
   "id": "71a04e9a-6fa3-4775-9eca-1ad6c2abcbfe",
   "metadata": {},
   "source": [
    "- Para la clase 1: 45% (bastante bajo)."
   ]
  },
  {
   "cell_type": "markdown",
   "id": "21c380f9-001a-4784-9e04-48977080749c",
   "metadata": {},
   "source": [
    "- F1-Score: Es la media armónica entre precisión y recall."
   ]
  },
  {
   "cell_type": "markdown",
   "id": "65ecd611-5e1d-40e8-9907-a60836936856",
   "metadata": {},
   "source": [
    "- Para la clase 0: 78%."
   ]
  },
  {
   "cell_type": "markdown",
   "id": "e16eddc3-d4e4-4f9a-8c5e-c8d4c4da0e4c",
   "metadata": {},
   "source": [
    "- Para la clase 1: 54%."
   ]
  },
  {
   "cell_type": "markdown",
   "id": "5a891f92-bf90-4ea8-bfe5-9b9d8bb25cb5",
   "metadata": {},
   "source": [
    "- Exactitud general (Accuracy): El modelo tiene una exactitud general del 70%, lo que significa que 7 de cada 10 predicciones son correctas."
   ]
  },
  {
   "cell_type": "markdown",
   "id": "0778cd94-fd5a-46a8-ae52-af127afc8b26",
   "metadata": {},
   "source": [
    "- Macro avg (promedio no ponderado): 69% de precisión y 65% de sensibilidad."
   ]
  },
  {
   "cell_type": "markdown",
   "id": "c57addc9-52e5-4b92-b183-70c8205ea72e",
   "metadata": {},
   "source": [
    "- Weighted avg (ponderado por la proporción de clases): Similar al accuracy con un F1-score de 70%."
   ]
  },
  {
   "cell_type": "markdown",
   "id": "531eb083-9eaa-4fca-a4a1-255a43f4fbb1",
   "metadata": {},
   "source": [
    "**3. Matriz de confusión:**"
   ]
  },
  {
   "cell_type": "markdown",
   "id": "93b93f69-fa65-47cf-ac1e-cf9b6130a765",
   "metadata": {},
   "source": [
    "- Muestra el número de predicciones correctas e incorrectas para cada clase."
   ]
  },
  {
   "cell_type": "markdown",
   "id": "98dfd9c5-da4b-4877-b834-d92c79935e2a",
   "metadata": {},
   "source": [
    "- Clase 0 (no sobrevivientes):"
   ]
  },
  {
   "cell_type": "markdown",
   "id": "7ac9a6d3-4c70-4fc6-8aa9-e9844098ae05",
   "metadata": {},
   "source": [
    "- 118 predicciones correctas."
   ]
  },
  {
   "cell_type": "markdown",
   "id": "0db7fd0d-4c96-4009-88e5-17809b7dfa01",
   "metadata": {},
   "source": [
    "- 47 incorrectas (predichos como sobrevivientes cuando no lo son)."
   ]
  },
  {
   "cell_type": "markdown",
   "id": "b092ea4f-aafd-459b-a8ff-6d6d886619f2",
   "metadata": {},
   "source": [
    "- Clase 1 (sobrevivientes):"
   ]
  },
  {
   "cell_type": "markdown",
   "id": "9ffc1ee3-f0ba-4b54-b032-cd28f9fe3b47",
   "metadata": {},
   "source": [
    "- 38 predicciones correctas."
   ]
  },
  {
   "cell_type": "markdown",
   "id": "76f8facc-5bf1-40dc-a6cb-74caa861bddc",
   "metadata": {},
   "source": [
    "- 19 incorrectas (predichos como no sobrevivientes cuando sí lo son)."
   ]
  },
  {
   "cell_type": "markdown",
   "id": "ea7a1914-5b31-4d6f-86cc-dc114df03fc2",
   "metadata": {},
   "source": [
    "- Esto indica que el modelo es mejor prediciendo la clase 0 (no sobrevivientes) que la clase 1 (sobrevivientes)."
   ]
  },
  {
   "cell_type": "markdown",
   "id": "bb4188d2-9e0a-4d6e-bbb9-0372e7f93666",
   "metadata": {},
   "source": [
    "**Análisis y documentación**"
   ]
  },
  {
   "cell_type": "markdown",
   "id": "8efc41af-a99a-493f-a701-aa0539216c97",
   "metadata": {},
   "source": [
    "**1. Desempeño del modelo:**"
   ]
  },
  {
   "cell_type": "markdown",
   "id": "f13abff4-7fa3-486b-aebd-95b6c6714572",
   "metadata": {},
   "source": [
    "- El modelo presenta un desempeño moderado. La capacidad para identificar a los sobrevivientes (clase 1) es baja, lo que podría ser crítico dependiendo del objetivo del modelo (por ejemplo, priorizar la supervivencia)."
   ]
  },
  {
   "cell_type": "markdown",
   "id": "ab98b452-70bb-4372-b580-d44e96dcc696",
   "metadata": {},
   "source": [
    "- Es necesario mejorar el recall de la clase 1, ya que el modelo pierde muchos casos de supervivientes reales."
   ]
  },
  {
   "cell_type": "markdown",
   "id": "9f92c5a1-f5e5-4347-95c2-881189a1962c",
   "metadata": {},
   "source": [
    "**2. Características del dataset (Titanic):**"
   ]
  },
  {
   "cell_type": "markdown",
   "id": "1d9a6231-00c3-415c-abfb-13f31504db25",
   "metadata": {},
   "source": [
    "- Variables como Sex, Age, Pclass y Fare podrían ser las más relevantes para predecir la supervivencia."
   ]
  },
  {
   "cell_type": "markdown",
   "id": "4a5b5bd1-2875-4038-9e70-83636d64bbb5",
   "metadata": {},
   "source": [
    "- Los valores faltantes (blanks) en columnas como Age o Cabin podrían afectar el desempeño del modelo. Es importante manejar estos valores con imputación adecuada."
   ]
  },
  {
   "cell_type": "markdown",
   "id": "986c97c3-187c-40f1-9cbe-55f762a8df94",
   "metadata": {},
   "source": [
    "**3. Posibles causas de bajo desempeño:**"
   ]
  },
  {
   "cell_type": "markdown",
   "id": "8bacc5c2-6033-4e74-8352-fa1dac6e8d44",
   "metadata": {},
   "source": [
    "- Desbalance de clases: Si la proporción entre sobrevivientes y no sobrevivientes es desigual, podría afectar la capacidad del modelo para aprender de la clase minoritaria."
   ]
  },
  {
   "cell_type": "markdown",
   "id": "2ec9cc26-cd29-49dc-93e4-006520aaa9a9",
   "metadata": {},
   "source": [
    "- Falta de características importantes: Algunas columnas como Name o Ticket pueden no tener relación directa con la supervivencia y podrían ser descartadas."
   ]
  },
  {
   "cell_type": "markdown",
   "id": "05fc5211-f801-4ff5-85fc-496ce6de8c68",
   "metadata": {},
   "source": [
    "- Selección de variables no optimizada: Revisar la contribución de cada variable para evitar ruido innecesario."
   ]
  },
  {
   "cell_type": "markdown",
   "id": "c359a6f5-e507-4cf8-9166-95a84a005c61",
   "metadata": {},
   "source": [
    "**4. Recomendaciones:**"
   ]
  },
  {
   "cell_type": "markdown",
   "id": "82af6789-ef92-4ee2-a81c-524bfbd28324",
   "metadata": {},
   "source": [
    "- Manejo de desbalance de clases: Aplicar técnicas como sobremuestreo (oversampling) de la clase minoritaria, submuestreo (undersampling) de la clase mayoritaria, o ajuste de pesos en la función de pérdida."
   ]
  },
  {
   "cell_type": "markdown",
   "id": "af5aaa49-61ca-4ef9-a5d6-f02300d65241",
   "metadata": {},
   "source": [
    "- Optimización de hiperparámetros: Realizar una búsqueda más exhaustiva de hiperparámetros para mejorar la capacidad predictiva del modelo."
   ]
  },
  {
   "cell_type": "markdown",
   "id": "2aebf41b-b1ae-4b87-b05b-d510d4bdfb7b",
   "metadata": {},
   "source": [
    "- Incorporación de más características: Crear variables derivadas o realizar ingeniería de características para mejorar la representatividad del modelo."
   ]
  },
  {
   "cell_type": "markdown",
   "id": "99390092-6ef3-45a8-a1df-efcb1d358a73",
   "metadata": {},
   "source": [
    "- Evaluar otros algoritmos: Considerar modelos como árboles de decisión, bosques aleatorios (Random Forest) o XGBoost, que podrían captar mejor relaciones no lineales en los datos."
   ]
  },
  {
   "cell_type": "markdown",
   "id": "2ea66cd6-529a-4ea7-95cd-bb0590d49884",
   "metadata": {},
   "source": [
    "**Conclusión**"
   ]
  },
  {
   "cell_type": "markdown",
   "id": "30dabdc3-7c56-4a1a-94fe-3be3f52b19b9",
   "metadata": {},
   "source": [
    "El modelo de regresión logística muestra una precisión general del 70% al predecir la supervivencia en el Titanic, con un desempeño desigual entre las dos clases. Para los pasajeros sobrevivientes (clase 1), el modelo tiene una precisión del 67%, pero su capacidad para identificarlos correctamente es limitada, con un recall bajo de 45% y un F1-score de 54%. En cambio, para los no sobrevivientes (clase 0), la precisión es más alta (72%) y el recall es excelente (86%), lo que sugiere que el modelo tiende a clasificar mejor la clase mayoritaria. Estos resultados reflejan un sesgo hacia la clase negativa debido al desequilibrio en el dataset, lo que puede mejorar mediante técnicas de balanceo de datos o exploración de modelos más complejos para obtener mejores predicciones, especialmente para la clase minoritaria de sobrevivientes."
   ]
  },
  {
   "cell_type": "code",
   "execution_count": null,
   "id": "e08cfc67-ca19-4d5b-82dd-2613ad53801d",
   "metadata": {},
   "outputs": [],
   "source": []
  }
 ],
 "metadata": {
  "kernelspec": {
   "display_name": "Python 3 (ipykernel)",
   "language": "python",
   "name": "python3"
  },
  "language_info": {
   "codemirror_mode": {
    "name": "ipython",
    "version": 3
   },
   "file_extension": ".py",
   "mimetype": "text/x-python",
   "name": "python",
   "nbconvert_exporter": "python",
   "pygments_lexer": "ipython3",
   "version": "3.12.4"
  }
 },
 "nbformat": 4,
 "nbformat_minor": 5
}
